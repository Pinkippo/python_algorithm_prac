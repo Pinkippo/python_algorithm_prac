{
 "cells": [
  {
   "attachments": {},
   "cell_type": "markdown",
   "metadata": {},
   "source": [
    "# 05. Data Assembly 연습과제\n",
    "***"
   ]
  },
  {
   "attachments": {},
   "cell_type": "markdown",
   "metadata": {
    "tags": []
   },
   "source": [
    "## 1. 데이터 만들기"
   ]
  },
  {
   "cell_type": "code",
   "execution_count": 44,
   "metadata": {},
   "outputs": [],
   "source": [
    "import pandas as pd"
   ]
  },
  {
   "cell_type": "code",
   "execution_count": 45,
   "metadata": {},
   "outputs": [],
   "source": [
    "# 2021학번 학생 데이터\n",
    "students_2021_df = pd.DataFrame({\n",
    "    'sid': [202101, 202102, 202103],\n",
    "    'name' : ['Emma', 'Jack', 'Smith'],\n",
    "    'sex': ['female', 'male', 'male']\n",
    "})\n",
    "\n",
    "# 2022학번 학생 데이터\n",
    "students_2022_df = pd.DataFrame({\n",
    "    'sid': [202201, 202202, 202203],\n",
    "    'name' : ['Michel', 'Jenny', 'Jack'],\n",
    "    'sex': ['male', 'female', 'male']\n",
    "})\n",
    "\n",
    "# 2023학번 학생 데이터\n",
    "students_2023_df = pd.DataFrame({\n",
    "    'sid': [202301, 202302, 202303],\n",
    "    'name' : ['Olivia', 'Kevin', 'Jack'],\n",
    "    'sex': ['female', 'male', 'male']\n",
    "})\n",
    "\n",
    "# 과목 데이터\n",
    "courses_df = pd.DataFrame({\n",
    "    'cid': [100, 200, 300],\n",
    "    'name': ['Python', 'Algorithm', 'Big Data']\n",
    "})\n",
    "\n",
    "# Python 중간시험 결과\n",
    "mid_py_scores_df = pd.DataFrame({\n",
    "    'sid': [202301, 202302, 202303, 202201, 202302],\n",
    "    'score': [70, 55, 85, 92, 100],\n",
    "})\n",
    "\n",
    "# Algorithm 중간시험 결과\n",
    "mid_algo_scores_df = pd.DataFrame({\n",
    "    'sid': [202201, 202202, 202203, 202101],\n",
    "    'score': [85, 95, 90, 92]\n",
    "})\n",
    "\n",
    "# Big Data 중간시험 결과\n",
    "mid_big_scores_df = pd.DataFrame({\n",
    "    'sid': [202101, 202102, 202103],\n",
    "    'score': [85, 95, 90]\n",
    "})"
   ]
  },
  {
   "attachments": {},
   "cell_type": "markdown",
   "metadata": {
    "tags": []
   },
   "source": [
    "## 2. 모든 학생 데이터 합치기 (concat)"
   ]
  },
  {
   "cell_type": "code",
   "execution_count": 46,
   "metadata": {},
   "outputs": [
    {
     "name": "stdout",
     "output_type": "stream",
     "text": [
      "      sid    name     sex\n",
      "0  202101    Emma  female\n",
      "1  202102    Jack    male\n",
      "2  202103   Smith    male\n",
      "3  202201  Michel    male\n",
      "4  202202   Jenny  female\n",
      "5  202203    Jack    male\n",
      "6  202301  Olivia  female\n",
      "7  202302   Kevin    male\n",
      "8  202303    Jack    male\n"
     ]
    }
   ],
   "source": [
    "all_students_df = pd.concat([students_2021_df, students_2022_df, students_2023_df], ignore_index=True)\n",
    "print(all_students_df)"
   ]
  },
  {
   "attachments": {},
   "cell_type": "markdown",
   "metadata": {
    "tags": []
   },
   "source": [
    "## 3. 파이썬 중간시험 결과와 학생 데이터 연결하기 (merge)"
   ]
  },
  {
   "cell_type": "code",
   "execution_count": 47,
   "metadata": {},
   "outputs": [
    {
     "name": "stdout",
     "output_type": "stream",
     "text": [
      "      sid    name     sex  score\n",
      "0  202201  Michel    male     92\n",
      "1  202301  Olivia  female     70\n",
      "2  202302   Kevin    male     55\n",
      "3  202302   Kevin    male    100\n",
      "4  202303    Jack    male     85\n"
     ]
    }
   ],
   "source": [
    "merged_df = pd.merge(all_students_df, mid_py_scores_df, on='sid')\n",
    "print(merged_df)\n"
   ]
  },
  {
   "attachments": {},
   "cell_type": "markdown",
   "metadata": {
    "tags": []
   },
   "source": [
    "## 4. 알고리즘 중간시험 결과와 학생 데이터 연결하기 (merge)"
   ]
  },
  {
   "cell_type": "code",
   "execution_count": 48,
   "metadata": {},
   "outputs": [
    {
     "name": "stdout",
     "output_type": "stream",
     "text": [
      "      sid    name     sex  score\n",
      "0  202101    Emma  female     92\n",
      "1  202201  Michel    male     85\n",
      "2  202202   Jenny  female     95\n",
      "3  202203    Jack    male     90\n"
     ]
    }
   ],
   "source": [
    "merged_df = pd.merge(all_students_df, mid_algo_scores_df, on='sid')\n",
    "print(merged_df)\n"
   ]
  },
  {
   "attachments": {},
   "cell_type": "markdown",
   "metadata": {
    "tags": []
   },
   "source": [
    "## 5. 빅데이터 중간시험 결과와 학생 데이터 연결하기 (merge)"
   ]
  },
  {
   "cell_type": "code",
   "execution_count": 49,
   "metadata": {},
   "outputs": [
    {
     "name": "stdout",
     "output_type": "stream",
     "text": [
      "      sid   name     sex  score\n",
      "0  202101   Emma  female     85\n",
      "1  202102   Jack    male     95\n",
      "2  202103  Smith    male     90\n"
     ]
    }
   ],
   "source": [
    "merged_df = pd.merge(all_students_df, mid_big_scores_df, on='sid')\n",
    "print(merged_df)\n"
   ]
  },
  {
   "attachments": {},
   "cell_type": "markdown",
   "metadata": {
    "tags": []
   },
   "source": [
    "## 6. 모든 시험결과와 학생 데이터 연결하기 (concat & merge)"
   ]
  },
  {
   "cell_type": "code",
   "execution_count": 50,
   "metadata": {},
   "outputs": [
    {
     "name": "stdout",
     "output_type": "stream",
     "text": [
      "       sid    name     sex  score\n",
      "0   202101    Emma  female     92\n",
      "1   202101    Emma  female     85\n",
      "2   202102    Jack    male     95\n",
      "3   202103   Smith    male     90\n",
      "4   202201  Michel    male     92\n",
      "5   202201  Michel    male     85\n",
      "6   202202   Jenny  female     95\n",
      "7   202203    Jack    male     90\n",
      "8   202301  Olivia  female     70\n",
      "9   202302   Kevin    male     55\n",
      "10  202302   Kevin    male    100\n",
      "11  202303    Jack    male     85\n"
     ]
    }
   ],
   "source": [
    "all_scores_df = pd.concat([mid_py_scores_df, mid_algo_scores_df, mid_big_scores_df])\n",
    "merged_df = pd.merge(all_students_df, all_scores_df, on='sid')\n",
    "print(merged_df)\n"
   ]
  },
  {
   "attachments": {},
   "cell_type": "markdown",
   "metadata": {
    "tags": []
   },
   "source": [
    "## 7. 과목정보가 유지되도록 모든 시험결과와 학생 데이터 연결하기 (new column & concat & merge)"
   ]
  },
  {
   "cell_type": "code",
   "execution_count": 51,
   "metadata": {},
   "outputs": [
    {
     "name": "stdout",
     "output_type": "stream",
     "text": [
      "       sid  name_x     sex  score  cid     name_y\n",
      "0   202101    Emma  female     92  200  Algorithm\n",
      "1   202201  Michel    male     85  200  Algorithm\n",
      "2   202202   Jenny  female     95  200  Algorithm\n",
      "3   202203    Jack    male     90  200  Algorithm\n",
      "4   202101    Emma  female     85  300   Big Data\n",
      "5   202102    Jack    male     95  300   Big Data\n",
      "6   202103   Smith    male     90  300   Big Data\n",
      "7   202201  Michel    male     92  100     Python\n",
      "8   202301  Olivia  female     70  100     Python\n",
      "9   202302   Kevin    male     55  100     Python\n",
      "10  202302   Kevin    male    100  100     Python\n",
      "11  202303    Jack    male     85  100     Python\n"
     ]
    }
   ],
   "source": [
    "# mid_py_scores_df['cid']=[100,100,100,100,100]\n",
    "# mid_algo_scores_df['cid']=[200,200,200,200]\n",
    "# mid_big_scores_df['cid']=[300,300,300]\n",
    "\n",
    "mid_py_scores_df['cid']= 100\n",
    "mid_algo_scores_df['cid']= 200\n",
    "mid_big_scores_df['cid']= 300\n",
    "\n",
    "all_scores_df = pd.concat([mid_py_scores_df, mid_algo_scores_df, mid_big_scores_df])\n",
    "merged_df = pd.merge(all_students_df, all_scores_df, on='sid')\n",
    "\n",
    "final_df = pd.merge(merged_df, courses_df, on=\"cid\")\n",
    "print(final_df)\n",
    "\n"
   ]
  },
  {
   "attachments": {},
   "cell_type": "markdown",
   "metadata": {
    "tags": []
   },
   "source": [
    "## 8. 7 단계에서 생성된 데이터 프레임을 이용하여 파이썬 과목 평균점수 구하기(mean)"
   ]
  },
  {
   "cell_type": "code",
   "execution_count": 55,
   "metadata": {},
   "outputs": [
    {
     "data": {
      "text/plain": [
       "80.4"
      ]
     },
     "execution_count": 55,
     "metadata": {},
     "output_type": "execute_result"
    }
   ],
   "source": [
    "final_df[final_df.cid == 100]['score'].mean()"
   ]
  },
  {
   "attachments": {},
   "cell_type": "markdown",
   "metadata": {
    "tags": []
   },
   "source": [
    "## 9. 7 단계에서 생성된 데이터 프레임을 이용하여 알고리즘 과목 남학생 평균점수 구하기(mean)"
   ]
  },
  {
   "cell_type": "code",
   "execution_count": 58,
   "metadata": {},
   "outputs": [
    {
     "data": {
      "text/plain": [
       "87.5"
      ]
     },
     "execution_count": 58,
     "metadata": {},
     "output_type": "execute_result"
    }
   ],
   "source": [
    "final_df[(final_df.cid == 200) & (final_df.sex == 'male')]['score'].mean()"
   ]
  }
 ],
 "metadata": {
  "kernelspec": {
   "display_name": "Python 3",
   "language": "python",
   "name": "python3"
  },
  "language_info": {
   "codemirror_mode": {
    "name": "ipython",
    "version": 3
   },
   "file_extension": ".py",
   "mimetype": "text/x-python",
   "name": "python",
   "nbconvert_exporter": "python",
   "pygments_lexer": "ipython3",
   "version": "3.11.3"
  }
 },
 "nbformat": 4,
 "nbformat_minor": 4
}
